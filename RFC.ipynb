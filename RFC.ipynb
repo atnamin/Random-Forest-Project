{
 "cells": [
  {
   "cell_type": "code",
   "execution_count": 1,
   "metadata": {},
   "outputs": [],
   "source": [
    "import pandas as pd\n",
    "import numpy as np\n",
    "import matplotlib.pyplot as plt\n",
    "import seaborn as sns\n",
    "%matplotlib inline"
   ]
  },
  {
   "cell_type": "markdown",
   "metadata": {},
   "source": [
    "EDA"
   ]
  },
  {
   "cell_type": "code",
   "execution_count": null,
   "metadata": {},
   "outputs": [],
   "source": [
    "loans = pd.read_csv('loan_data.csv')\n",
    "loans.info()\n",
    "loans.describe()\n",
    "\n",
    "loans[loans['credit.policy']==1]['fico'].hist(bins=40, color = 'blue', alpha = 0.6, label = 'Credit Policy = 1')\n",
    "loans[loans['credit.policy']==0]['fico'].hist(bins=40, color = 'red', alpha = 0.6, label = 'Credit Policy = 0')\n",
    "plt.legend()\n",
    "\n",
    "loans[loans['not.fully.paid']==1]['fico'].hist(bins=30, color='blue', alpha=0.5, label = 'Not fully paid = 1')\n",
    "loans[loans['not.fully.paid']==0]['fico'].hist(bins=30, color='red', alpha=0.5, label = 'Not fully paid =0') \n",
    "plt.legend()\n",
    "\n",
    "plt.figure(figsize=(10,6))\n",
    "sns.countplot(x='purpose', data = loans, hue = 'not.fully.paid', palette='Set1')\n",
    "plt.tight_layout()\n",
    "\n",
    "sns.jointplot(x= 'fico', y = 'int.rate', data= loans)\n",
    "sns.lmplot(x='fico',y='int.rate', data=loans, hue = 'credit.policy', col = 'not.fully.paid', palette='viridis')"
   ]
  },
  {
   "cell_type": "markdown",
   "metadata": {},
   "source": [
    "## Categorical Features\n",
    "\n",
    "Notice that the **purpose** column as categorical\n",
    "\n",
    "That means we need to transform them using dummy variables so sklearn will be able to understand them. Let's do this in one clean step using pd.get_dummies.\n",
    "\n",
    "Let's show you a way of dealing with these columns that can be expanded to multiple categorical features if necessary."
   ]
  },
  {
   "cell_type": "code",
   "execution_count": null,
   "metadata": {},
   "outputs": [],
   "source": [
    "cat_feats = ['purpose']\n",
    "final_data = pd.get_dummies(loans, columns=cat_feats, drop_first=True)"
   ]
  },
  {
   "cell_type": "code",
   "execution_count": null,
   "metadata": {},
   "outputs": [],
   "source": [
    "from sklearn.model_selection import train_test_split\n",
    "from sklearn.tree import DecisionTreeClassifier\n",
    "X = final_data.drop('not.fully.paid', axis=1)\n",
    "y = final_data['not.fully.paid']\n",
    "\n",
    "X_train, X_test, y_train, y_test = train_test_split(X, y, test_size=0.3, random_state=101)\n",
    "\n",
    "dtree = DecisionTreeClassifier(min_samples_split=5, min_samples_leaf=8)\n",
    "dtree.fit(X_train, y_train)\n",
    "pred = dtree.predict(X_test)\n",
    "\n",
    "from sklearn.metrics import confusion_matrix, classification_report\n",
    "\n",
    "print(classification_report(y_test, pred))\n",
    "print('\\n')\n",
    "print(confusion_matrix(y_test,pred))\n",
    "\n",
    "\n",
    "from sklearn.ensemble import RandomForestClassifier\n",
    "rfc = RandomForestClassifier(n_estimators=300)\n",
    "rfc.fit(X_train, y_train)\n",
    "predictions = rfc.predict(X_test)\n",
    "\n",
    "print(classification_report(y_test, predictions))\n",
    "print('\\n')\n",
    "print(confusion_matrix(y_test, predictions))"
   ]
  }
 ],
 "metadata": {
  "kernelspec": {
   "display_name": "Python 3",
   "language": "python",
   "name": "python3"
  },
  "language_info": {
   "codemirror_mode": {
    "name": "ipython",
    "version": 3
   },
   "file_extension": ".py",
   "mimetype": "text/x-python",
   "name": "python",
   "nbconvert_exporter": "python",
   "pygments_lexer": "ipython3",
   "version": "3.6.5"
  }
 },
 "nbformat": 4,
 "nbformat_minor": 2
}
